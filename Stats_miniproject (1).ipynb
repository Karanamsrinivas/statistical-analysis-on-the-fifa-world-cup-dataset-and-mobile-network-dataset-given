{
 "cells": [
  {
   "cell_type": "code",
   "execution_count": 1,
   "id": "352c42ee",
   "metadata": {},
   "outputs": [],
   "source": [
    "# import 'pandas' \n",
    "import pandas as pd \n",
    "\n",
    "# import 'numpy' \n",
    "import numpy as np\n",
    "\n",
    "# import subpackage of matplotlib\n",
    "import matplotlib.pyplot as plt\n",
    "\n",
    "# import 'seaborn'\n",
    "import seaborn as sns\n",
    "\n",
    "# import 'random' to generate random sample\n",
    "import random\n",
    "\n",
    "# import statistics to perform statistical computation  \n",
    "import statistics\n",
    "\n",
    "# import 'stats' package from scipy library\n",
    "from scipy import stats\n",
    "\n",
    "# import a library to perform Z-test\n",
    "from statsmodels.stats import weightstats as stests\n",
    "\n",
    "# to test the normality \n",
    "from scipy.stats import shapiro\n",
    "\n",
    "from statsmodels.stats import proportion\n",
    "\n",
    "import statsmodels.api as sm\n",
    "\n",
    "import statsmodels.stats.multicomp as mc"
   ]
  },
  {
   "cell_type": "code",
   "execution_count": 2,
   "id": "6089a23e",
   "metadata": {},
   "outputs": [
    {
     "data": {
      "text/html": [
       "<div>\n",
       "<style scoped>\n",
       "    .dataframe tbody tr th:only-of-type {\n",
       "        vertical-align: middle;\n",
       "    }\n",
       "\n",
       "    .dataframe tbody tr th {\n",
       "        vertical-align: top;\n",
       "    }\n",
       "\n",
       "    .dataframe thead th {\n",
       "        text-align: right;\n",
       "    }\n",
       "</style>\n",
       "<table border=\"1\" class=\"dataframe\">\n",
       "  <thead>\n",
       "    <tr style=\"text-align: right;\">\n",
       "      <th></th>\n",
       "      <th>Name</th>\n",
       "      <th>Age</th>\n",
       "      <th>Nationality</th>\n",
       "      <th>Overall_rating</th>\n",
       "      <th>Potential</th>\n",
       "      <th>Club</th>\n",
       "      <th>Preferred Foot</th>\n",
       "      <th>International Reputation</th>\n",
       "      <th>Weak Foot</th>\n",
       "      <th>Skill Moves</th>\n",
       "      <th>Work Rate</th>\n",
       "      <th>Position</th>\n",
       "      <th>Jersey Number</th>\n",
       "      <th>Height</th>\n",
       "      <th>Weight</th>\n",
       "    </tr>\n",
       "  </thead>\n",
       "  <tbody>\n",
       "    <tr>\n",
       "      <th>0</th>\n",
       "      <td>L. Messi</td>\n",
       "      <td>31</td>\n",
       "      <td>Argentina</td>\n",
       "      <td>94</td>\n",
       "      <td>94</td>\n",
       "      <td>FC Barcelona</td>\n",
       "      <td>Left</td>\n",
       "      <td>5</td>\n",
       "      <td>4</td>\n",
       "      <td>4</td>\n",
       "      <td>Medium/ Medium</td>\n",
       "      <td>RF</td>\n",
       "      <td>10</td>\n",
       "      <td>5.583333</td>\n",
       "      <td>159</td>\n",
       "    </tr>\n",
       "    <tr>\n",
       "      <th>1</th>\n",
       "      <td>Cristiano Ronaldo</td>\n",
       "      <td>33</td>\n",
       "      <td>Portugal</td>\n",
       "      <td>94</td>\n",
       "      <td>94</td>\n",
       "      <td>Juventus</td>\n",
       "      <td>Right</td>\n",
       "      <td>5</td>\n",
       "      <td>4</td>\n",
       "      <td>5</td>\n",
       "      <td>High/ Low</td>\n",
       "      <td>ST</td>\n",
       "      <td>7</td>\n",
       "      <td>6.166667</td>\n",
       "      <td>183</td>\n",
       "    </tr>\n",
       "    <tr>\n",
       "      <th>2</th>\n",
       "      <td>Neymar Jr</td>\n",
       "      <td>26</td>\n",
       "      <td>Brazil</td>\n",
       "      <td>92</td>\n",
       "      <td>93</td>\n",
       "      <td>Paris Saint-Germain</td>\n",
       "      <td>Right</td>\n",
       "      <td>5</td>\n",
       "      <td>5</td>\n",
       "      <td>5</td>\n",
       "      <td>High/ Medium</td>\n",
       "      <td>LW</td>\n",
       "      <td>10</td>\n",
       "      <td>5.750000</td>\n",
       "      <td>150</td>\n",
       "    </tr>\n",
       "    <tr>\n",
       "      <th>3</th>\n",
       "      <td>De Gea</td>\n",
       "      <td>27</td>\n",
       "      <td>Spain</td>\n",
       "      <td>91</td>\n",
       "      <td>93</td>\n",
       "      <td>Manchester United</td>\n",
       "      <td>Right</td>\n",
       "      <td>4</td>\n",
       "      <td>3</td>\n",
       "      <td>1</td>\n",
       "      <td>Medium/ Medium</td>\n",
       "      <td>GK</td>\n",
       "      <td>1</td>\n",
       "      <td>6.333333</td>\n",
       "      <td>168</td>\n",
       "    </tr>\n",
       "    <tr>\n",
       "      <th>4</th>\n",
       "      <td>K. De Bruyne</td>\n",
       "      <td>27</td>\n",
       "      <td>Belgium</td>\n",
       "      <td>91</td>\n",
       "      <td>92</td>\n",
       "      <td>Manchester City</td>\n",
       "      <td>Right</td>\n",
       "      <td>4</td>\n",
       "      <td>5</td>\n",
       "      <td>4</td>\n",
       "      <td>High/ High</td>\n",
       "      <td>RCM</td>\n",
       "      <td>7</td>\n",
       "      <td>5.083333</td>\n",
       "      <td>154</td>\n",
       "    </tr>\n",
       "  </tbody>\n",
       "</table>\n",
       "</div>"
      ],
      "text/plain": [
       "                Name  Age Nationality  Overall_rating  Potential  \\\n",
       "0           L. Messi   31   Argentina              94         94   \n",
       "1  Cristiano Ronaldo   33    Portugal              94         94   \n",
       "2          Neymar Jr   26      Brazil              92         93   \n",
       "3             De Gea   27       Spain              91         93   \n",
       "4       K. De Bruyne   27     Belgium              91         92   \n",
       "\n",
       "                  Club Preferred Foot  International Reputation  Weak Foot  \\\n",
       "0         FC Barcelona           Left                         5          4   \n",
       "1             Juventus          Right                         5          4   \n",
       "2  Paris Saint-Germain          Right                         5          5   \n",
       "3    Manchester United          Right                         4          3   \n",
       "4      Manchester City          Right                         4          5   \n",
       "\n",
       "   Skill Moves       Work Rate Position  Jersey Number    Height  Weight  \n",
       "0            4  Medium/ Medium       RF             10  5.583333     159  \n",
       "1            5       High/ Low       ST              7  6.166667     183  \n",
       "2            5    High/ Medium       LW             10  5.750000     150  \n",
       "3            1  Medium/ Medium       GK              1  6.333333     168  \n",
       "4            4      High/ High      RCM              7  5.083333     154  "
      ]
     },
     "execution_count": 2,
     "metadata": {},
     "output_type": "execute_result"
    }
   ],
   "source": [
    "df=pd.read_csv('fifa_stats.csv')\n",
    "df.head()"
   ]
  },
  {
   "cell_type": "code",
   "execution_count": 3,
   "id": "01987ac5",
   "metadata": {},
   "outputs": [
    {
     "data": {
      "text/plain": [
       "(2000, 15)"
      ]
     },
     "execution_count": 3,
     "metadata": {},
     "output_type": "execute_result"
    }
   ],
   "source": [
    "df.shape"
   ]
  },
  {
   "cell_type": "code",
   "execution_count": 4,
   "id": "c881e340",
   "metadata": {},
   "outputs": [
    {
     "name": "stdout",
     "output_type": "stream",
     "text": [
      "<class 'pandas.core.frame.DataFrame'>\n",
      "RangeIndex: 2000 entries, 0 to 1999\n",
      "Data columns (total 15 columns):\n",
      " #   Column                    Non-Null Count  Dtype  \n",
      "---  ------                    --------------  -----  \n",
      " 0   Name                      2000 non-null   object \n",
      " 1   Age                       2000 non-null   int64  \n",
      " 2   Nationality               2000 non-null   object \n",
      " 3   Overall_rating            2000 non-null   int64  \n",
      " 4   Potential                 2000 non-null   int64  \n",
      " 5   Club                      1981 non-null   object \n",
      " 6   Preferred Foot            2000 non-null   object \n",
      " 7   International Reputation  2000 non-null   int64  \n",
      " 8   Weak Foot                 2000 non-null   int64  \n",
      " 9   Skill Moves               2000 non-null   int64  \n",
      " 10  Work Rate                 2000 non-null   object \n",
      " 11  Position                  2000 non-null   object \n",
      " 12  Jersey Number             2000 non-null   int64  \n",
      " 13  Height                    2000 non-null   float64\n",
      " 14  Weight                    2000 non-null   int64  \n",
      "dtypes: float64(1), int64(8), object(6)\n",
      "memory usage: 234.5+ KB\n"
     ]
    }
   ],
   "source": [
    "df.info()"
   ]
  },
  {
   "cell_type": "code",
   "execution_count": 5,
   "id": "99b39642",
   "metadata": {},
   "outputs": [
    {
     "data": {
      "text/plain": [
       "Name                         0\n",
       "Age                          0\n",
       "Nationality                  0\n",
       "Overall_rating               0\n",
       "Potential                    0\n",
       "Club                        19\n",
       "Preferred Foot               0\n",
       "International Reputation     0\n",
       "Weak Foot                    0\n",
       "Skill Moves                  0\n",
       "Work Rate                    0\n",
       "Position                     0\n",
       "Jersey Number                0\n",
       "Height                       0\n",
       "Weight                       0\n",
       "dtype: int64"
      ]
     },
     "execution_count": 5,
     "metadata": {},
     "output_type": "execute_result"
    }
   ],
   "source": [
    "df.isnull().sum()"
   ]
  },
  {
   "cell_type": "code",
   "execution_count": 6,
   "id": "ecd208e2",
   "metadata": {},
   "outputs": [
    {
     "data": {
      "text/plain": [
       "0.95"
      ]
     },
     "execution_count": 6,
     "metadata": {},
     "output_type": "execute_result"
    }
   ],
   "source": [
    "df['Club'].isnull().sum()/len(df)*100"
   ]
  },
  {
   "cell_type": "code",
   "execution_count": 7,
   "id": "819dd446",
   "metadata": {},
   "outputs": [],
   "source": [
    "df.dropna(inplace=True)"
   ]
  },
  {
   "cell_type": "code",
   "execution_count": 8,
   "id": "458f649c",
   "metadata": {},
   "outputs": [
    {
     "data": {
      "text/plain": [
       "Name                        0\n",
       "Age                         0\n",
       "Nationality                 0\n",
       "Overall_rating              0\n",
       "Potential                   0\n",
       "Club                        0\n",
       "Preferred Foot              0\n",
       "International Reputation    0\n",
       "Weak Foot                   0\n",
       "Skill Moves                 0\n",
       "Work Rate                   0\n",
       "Position                    0\n",
       "Jersey Number               0\n",
       "Height                      0\n",
       "Weight                      0\n",
       "dtype: int64"
      ]
     },
     "execution_count": 8,
     "metadata": {},
     "output_type": "execute_result"
    }
   ],
   "source": [
    "df.isnull().sum()"
   ]
  },
  {
   "cell_type": "code",
   "execution_count": 9,
   "id": "253cf805",
   "metadata": {},
   "outputs": [
    {
     "data": {
      "text/plain": [
       "(1981, 15)"
      ]
     },
     "execution_count": 9,
     "metadata": {},
     "output_type": "execute_result"
    }
   ],
   "source": [
    "df.shape"
   ]
  },
  {
   "cell_type": "markdown",
   "id": "738dddf3",
   "metadata": {},
   "source": [
    "### a)\tAssuming age as population, perform the central limit theorem with sample size of 200. Find the standard error and the mean of sampling distribution. Compare the results with population mean and standard deviation. Explain in non-technical terms why the estimated standard error of a sample mean tends to decrease with an increase in sample size"
   ]
  },
  {
   "cell_type": "code",
   "execution_count": 10,
   "id": "9ad93ff2",
   "metadata": {},
   "outputs": [
    {
     "name": "stderr",
     "output_type": "stream",
     "text": [
      "C:\\Users\\karan\\anaconda3\\lib\\site-packages\\seaborn\\distributions.py:2619: FutureWarning: `distplot` is a deprecated function and will be removed in a future version. Please adapt your code to use either `displot` (a figure-level function with similar flexibility) or `histplot` (an axes-level function for histograms).\n",
      "  warnings.warn(msg, FutureWarning)\n"
     ]
    },
    {
     "data": {
      "text/plain": [
       "<AxesSubplot:xlabel='Age', ylabel='Density'>"
      ]
     },
     "execution_count": 10,
     "metadata": {},
     "output_type": "execute_result"
    },
    {
     "data": {
      "image/png": "[encoded data removed]",
      "text/plain": [
       "<Figure size 432x288 with 1 Axes>"
      ]
     },
     "metadata": {
      "needs_background": "light"
     },
     "output_type": "display_data"
    }
   ],
   "source": [
    "sns.distplot(df['Age'])"
   ]
  },
  {
   "cell_type": "code",
   "execution_count": 12,
   "id": "c2fdf558",
   "metadata": {},
   "outputs": [
    {
     "name": "stdout",
     "output_type": "stream",
     "text": [
      "Population Mean(mu): 27.22\n",
      "Population Standard deviation(sigma): 3.85\n"
     ]
    }
   ],
   "source": [
    "mu=round(np.mean(df['Age']),2)\n",
    "sigma=round(np.std(df['Age']),2)\n",
    "print(\"Population Mean(mu):\",mu)\n",
    "print(\"Population Standard deviation(sigma):\",sigma)"
   ]
  },
  {
   "cell_type": "code",
   "execution_count": 13,
   "id": "aa3f4b77",
   "metadata": {},
   "outputs": [
    {
     "name": "stdout",
     "output_type": "stream",
     "text": [
      "100\n"
     ]
    }
   ],
   "source": [
    "list_mean=[]\n",
    "sample_size=200\n",
    "no_of_samples=100\n",
    "for i in range(1,101):\n",
    "    sample=np.random.choice(df['Age'],size=sample_size)\n",
    "    sample_mean=np.mean(sample)\n",
    "    sample_std=np.std(sample)\n",
    "    list_mean.append(sample_mean)\n",
    "print(len(list_mean))"
   ]
  },
  {
   "cell_type": "code",
   "execution_count": 14,
   "id": "82ce4866",
   "metadata": {},
   "outputs": [
    {
     "name": "stdout",
     "output_type": "stream",
     "text": [
      "Standard Error: 0.27\n",
      "Mean of Sampling Distribution: 27.18\n"
     ]
    }
   ],
   "source": [
    "n=200\n",
    "se=sigma/np.sqrt(n)\n",
    "print('Standard Error:',round(se,2))\n",
    "print('Mean of Sampling Distribution:',round(np.mean(list_mean),2))"
   ]
  },
  {
   "cell_type": "code",
   "execution_count": 15,
   "id": "9ee7cc7b",
   "metadata": {},
   "outputs": [
    {
     "name": "stderr",
     "output_type": "stream",
     "text": [
      "C:\\Users\\karan\\anaconda3\\lib\\site-packages\\seaborn\\distributions.py:2619: FutureWarning: `distplot` is a deprecated function and will be removed in a future version. Please adapt your code to use either `displot` (a figure-level function with similar flexibility) or `histplot` (an axes-level function for histograms).\n",
      "  warnings.warn(msg, FutureWarning)\n",
      "C:\\Users\\karan\\anaconda3\\lib\\site-packages\\seaborn\\distributions.py:2619: FutureWarning: `distplot` is a deprecated function and will be removed in a future version. Please adapt your code to use either `displot` (a figure-level function with similar flexibility) or `histplot` (an axes-level function for histograms).\n",
      "  warnings.warn(msg, FutureWarning)\n"
     ]
    },
    {
     "data": {
      "text/plain": [
       "<AxesSubplot:xlabel='Age', ylabel='Density'>"
      ]
     },
     "execution_count": 15,
     "metadata": {},
     "output_type": "execute_result"
    },
    {
     "data": {
      "image/png": "[encoded data removed]",
      "text/plain": [
       "<Figure size 432x288 with 1 Axes>"
      ]
     },
     "metadata": {
      "needs_background": "light"
     },
     "output_type": "display_data"
    }
   ],
   "source": [
    "sns.distplot(df['Age'])\n",
    "sns.distplot(list_mean)"
   ]
  },
  {
   "cell_type": "code",
   "execution_count": null,
   "id": "cee7d3ac",
   "metadata": {},
   "outputs": [],
   "source": [
    "#With increase in sample size the sample mean gets closer to the population mean and therefore the distribution gets \n",
    "#narrower,hence the standard error decreases"
   ]
  },
  {
   "cell_type": "markdown",
   "id": "4bc0ea15",
   "metadata": {},
   "source": [
    "### b)Is there any evidence that the players overall rating is greater than 80?"
   ]
  },
  {
   "cell_type": "code",
   "execution_count": 16,
   "id": "b09640da",
   "metadata": {},
   "outputs": [],
   "source": [
    "#Ho: mu<=80\n",
    "#H1: mu>80"
   ]
  },
  {
   "cell_type": "code",
   "execution_count": 17,
   "id": "cd343ce8",
   "metadata": {},
   "outputs": [
    {
     "data": {
      "text/plain": [
       "-24.161970492711102"
      ]
     },
     "execution_count": 17,
     "metadata": {},
     "output_type": "execute_result"
    }
   ],
   "source": [
    "mu=80\n",
    "n=len(df['Overall_rating'])\n",
    "x_bar=df['Overall_rating'].mean()\n",
    "s=np.std(df['Overall_rating'],ddof=1)\n",
    "t_stat=(x_bar-mu)/(s/(n**0.5))\n",
    "t_stat"
   ]
  },
  {
   "cell_type": "code",
   "execution_count": 18,
   "id": "e33470d1",
   "metadata": {},
   "outputs": [
    {
     "data": {
      "text/plain": [
       "1.5003473423359258e-113"
      ]
     },
     "execution_count": 18,
     "metadata": {},
     "output_type": "execute_result"
    }
   ],
   "source": [
    "p_val=stats.t.sf(abs(t_stat),df=n-1)\n",
    "p_val"
   ]
  },
  {
   "cell_type": "code",
   "execution_count": 19,
   "id": "c19aac6e",
   "metadata": {},
   "outputs": [
    {
     "name": "stdout",
     "output_type": "stream",
     "text": [
      "Reject Ho\n"
     ]
    }
   ],
   "source": [
    "sl=0.05\n",
    "if p_val>=sl:\n",
    "    print('Fail to reject Ho')\n",
    "else:\n",
    "    print('Reject Ho')"
   ]
  },
  {
   "cell_type": "code",
   "execution_count": 20,
   "id": "3f709465",
   "metadata": {},
   "outputs": [],
   "source": [
    "#Hence the players overall rating is greater than 80"
   ]
  },
  {
   "cell_type": "markdown",
   "id": "a98889ce",
   "metadata": {},
   "source": [
    "### c)\tPerform the statistical test to identify whether preferred foot has any impact on potential. Also, perform the graphical analysis."
   ]
  },
  {
   "cell_type": "code",
   "execution_count": 21,
   "id": "57cb41eb",
   "metadata": {},
   "outputs": [
    {
     "data": {
      "text/plain": [
       "Right    1519\n",
       "Left      462\n",
       "Name: Preferred Foot, dtype: int64"
      ]
     },
     "execution_count": 21,
     "metadata": {},
     "output_type": "execute_result"
    }
   ],
   "source": [
    "df['Preferred Foot'].value_counts()"
   ]
  },
  {
   "cell_type": "code",
   "execution_count": 22,
   "id": "5dcb65eb",
   "metadata": {},
   "outputs": [],
   "source": [
    "#Ho: Preferred foot has no impact on potential (independent)\n",
    "#H1: Preferred foot has impact on potential    (not independent)"
   ]
  },
  {
   "cell_type": "code",
   "execution_count": 23,
   "id": "e0a3a33b",
   "metadata": {},
   "outputs": [],
   "source": [
    "pot_right = df[df['Preferred Foot'] == 'Right']['Potential']\n",
    "pot_left = df[df['Preferred Foot'] == 'Left']['Potential']"
   ]
  },
  {
   "cell_type": "code",
   "execution_count": 24,
   "id": "8cc94e37",
   "metadata": {},
   "outputs": [
    {
     "name": "stdout",
     "output_type": "stream",
     "text": [
      "ShapiroResult(statistic=0.9373535513877869, pvalue=8.425229710834448e-25)\n",
      "ShapiroResult(statistic=0.9437844157218933, pvalue=3.187897645515192e-12)\n"
     ]
    }
   ],
   "source": [
    "#test for normal dist\n",
    "print(stats.shapiro(pot_right))\n",
    "print(stats.shapiro(pot_left))"
   ]
  },
  {
   "cell_type": "code",
   "execution_count": 25,
   "id": "12b62d58",
   "metadata": {},
   "outputs": [
    {
     "data": {
      "text/plain": [
       "LeveneResult(statistic=1.5665635192734586, pvalue=0.2108546965781491)"
      ]
     },
     "execution_count": 25,
     "metadata": {},
     "output_type": "execute_result"
    }
   ],
   "source": [
    "#test for levene\n",
    "stats.levene(pot_right,pot_left) #pval>0.05"
   ]
  },
  {
   "cell_type": "code",
   "execution_count": 26,
   "id": "601fb1fc",
   "metadata": {},
   "outputs": [
    {
     "data": {
      "text/plain": [
       "(2.6621845772621833, 0.10291861885209323)"
      ]
     },
     "execution_count": 26,
     "metadata": {},
     "output_type": "execute_result"
    }
   ],
   "source": [
    "stat,p_val=stats.f_oneway(pot_right,pot_left)\n",
    "stat,p_val                                   #p_val>0.05"
   ]
  },
  {
   "cell_type": "code",
   "execution_count": 27,
   "id": "ae1c8019",
   "metadata": {},
   "outputs": [],
   "source": [
    "#p-value is greater than 0.05, hence fail to reject Ho and concluding that preferred foot has impact on potential"
   ]
  },
  {
   "cell_type": "code",
   "execution_count": 28,
   "id": "13490c66",
   "metadata": {},
   "outputs": [
    {
     "name": "stderr",
     "output_type": "stream",
     "text": [
      "C:\\Users\\karan\\anaconda3\\lib\\site-packages\\seaborn\\distributions.py:2619: FutureWarning: `distplot` is a deprecated function and will be removed in a future version. Please adapt your code to use either `displot` (a figure-level function with similar flexibility) or `histplot` (an axes-level function for histograms).\n",
      "  warnings.warn(msg, FutureWarning)\n",
      "C:\\Users\\karan\\anaconda3\\lib\\site-packages\\seaborn\\distributions.py:2619: FutureWarning: `distplot` is a deprecated function and will be removed in a future version. Please adapt your code to use either `displot` (a figure-level function with similar flexibility) or `histplot` (an axes-level function for histograms).\n",
      "  warnings.warn(msg, FutureWarning)\n"
     ]
    },
    {
     "data": {
      "text/plain": [
       "<AxesSubplot:xlabel='Potential', ylabel='Density'>"
      ]
     },
     "execution_count": 28,
     "metadata": {},
     "output_type": "execute_result"
    },
    {
     "data": {
      "image/png": "[encoded data removed]",
      "text/plain": [
       "<Figure size 432x288 with 1 Axes>"
      ]
     },
     "metadata": {
      "needs_background": "light"
     },
     "output_type": "display_data"
    }
   ],
   "source": [
    "sns.distplot(pot_right)\n",
    "sns.distplot(pot_left)"
   ]
  },
  {
   "cell_type": "markdown",
   "id": "a5991918",
   "metadata": {},
   "source": [
    "### d)\tPerform the statistical test to identify the relation between the overall rating and potential. [Assume both are continuous data points]."
   ]
  },
  {
   "cell_type": "code",
   "execution_count": 29,
   "id": "88a9791e",
   "metadata": {},
   "outputs": [],
   "source": [
    "# H0 : The variable overall rating and potential are independent\n",
    "# H1 : The variable overall rating and potential are Dependent."
   ]
  },
  {
   "cell_type": "code",
   "execution_count": 30,
   "id": "7e4be7c4",
   "metadata": {},
   "outputs": [
    {
     "data": {
      "text/html": [
       "<div>\n",
       "<style scoped>\n",
       "    .dataframe tbody tr th:only-of-type {\n",
       "        vertical-align: middle;\n",
       "    }\n",
       "\n",
       "    .dataframe tbody tr th {\n",
       "        vertical-align: top;\n",
       "    }\n",
       "\n",
       "    .dataframe thead th {\n",
       "        text-align: right;\n",
       "    }\n",
       "</style>\n",
       "<table border=\"1\" class=\"dataframe\">\n",
       "  <thead>\n",
       "    <tr style=\"text-align: right;\">\n",
       "      <th></th>\n",
       "      <th>Age</th>\n",
       "      <th>Overall_rating</th>\n",
       "      <th>Potential</th>\n",
       "      <th>International Reputation</th>\n",
       "      <th>Weak Foot</th>\n",
       "      <th>Skill Moves</th>\n",
       "      <th>Jersey Number</th>\n",
       "      <th>Height</th>\n",
       "      <th>Weight</th>\n",
       "    </tr>\n",
       "  </thead>\n",
       "  <tbody>\n",
       "    <tr>\n",
       "      <th>Age</th>\n",
       "      <td>1.000000</td>\n",
       "      <td>0.065415</td>\n",
       "      <td>-0.511813</td>\n",
       "      <td>0.317207</td>\n",
       "      <td>-0.060779</td>\n",
       "      <td>-0.203928</td>\n",
       "      <td>-0.036914</td>\n",
       "      <td>0.069289</td>\n",
       "      <td>0.149615</td>\n",
       "    </tr>\n",
       "    <tr>\n",
       "      <th>Overall_rating</th>\n",
       "      <td>0.065415</td>\n",
       "      <td>1.000000</td>\n",
       "      <td>0.732086</td>\n",
       "      <td>0.661631</td>\n",
       "      <td>0.104497</td>\n",
       "      <td>0.083036</td>\n",
       "      <td>-0.096322</td>\n",
       "      <td>0.041389</td>\n",
       "      <td>0.054398</td>\n",
       "    </tr>\n",
       "    <tr>\n",
       "      <th>Potential</th>\n",
       "      <td>-0.511813</td>\n",
       "      <td>0.732086</td>\n",
       "      <td>1.000000</td>\n",
       "      <td>0.326561</td>\n",
       "      <td>0.099751</td>\n",
       "      <td>0.127850</td>\n",
       "      <td>-0.039918</td>\n",
       "      <td>0.029916</td>\n",
       "      <td>-0.017479</td>\n",
       "    </tr>\n",
       "    <tr>\n",
       "      <th>International Reputation</th>\n",
       "      <td>0.317207</td>\n",
       "      <td>0.661631</td>\n",
       "      <td>0.326561</td>\n",
       "      <td>1.000000</td>\n",
       "      <td>0.105721</td>\n",
       "      <td>0.088159</td>\n",
       "      <td>-0.033793</td>\n",
       "      <td>0.044504</td>\n",
       "      <td>0.070266</td>\n",
       "    </tr>\n",
       "    <tr>\n",
       "      <th>Weak Foot</th>\n",
       "      <td>-0.060779</td>\n",
       "      <td>0.104497</td>\n",
       "      <td>0.099751</td>\n",
       "      <td>0.105721</td>\n",
       "      <td>1.000000</td>\n",
       "      <td>0.342575</td>\n",
       "      <td>0.040300</td>\n",
       "      <td>-0.188258</td>\n",
       "      <td>-0.199720</td>\n",
       "    </tr>\n",
       "    <tr>\n",
       "      <th>Skill Moves</th>\n",
       "      <td>-0.203928</td>\n",
       "      <td>0.083036</td>\n",
       "      <td>0.127850</td>\n",
       "      <td>0.088159</td>\n",
       "      <td>0.342575</td>\n",
       "      <td>1.000000</td>\n",
       "      <td>0.064169</td>\n",
       "      <td>-0.474081</td>\n",
       "      <td>-0.529191</td>\n",
       "    </tr>\n",
       "    <tr>\n",
       "      <th>Jersey Number</th>\n",
       "      <td>-0.036914</td>\n",
       "      <td>-0.096322</td>\n",
       "      <td>-0.039918</td>\n",
       "      <td>-0.033793</td>\n",
       "      <td>0.040300</td>\n",
       "      <td>0.064169</td>\n",
       "      <td>1.000000</td>\n",
       "      <td>0.003525</td>\n",
       "      <td>-0.016596</td>\n",
       "    </tr>\n",
       "    <tr>\n",
       "      <th>Height</th>\n",
       "      <td>0.069289</td>\n",
       "      <td>0.041389</td>\n",
       "      <td>0.029916</td>\n",
       "      <td>0.044504</td>\n",
       "      <td>-0.188258</td>\n",
       "      <td>-0.474081</td>\n",
       "      <td>0.003525</td>\n",
       "      <td>1.000000</td>\n",
       "      <td>0.545304</td>\n",
       "    </tr>\n",
       "    <tr>\n",
       "      <th>Weight</th>\n",
       "      <td>0.149615</td>\n",
       "      <td>0.054398</td>\n",
       "      <td>-0.017479</td>\n",
       "      <td>0.070266</td>\n",
       "      <td>-0.199720</td>\n",
       "      <td>-0.529191</td>\n",
       "      <td>-0.016596</td>\n",
       "      <td>0.545304</td>\n",
       "      <td>1.000000</td>\n",
       "    </tr>\n",
       "  </tbody>\n",
       "</table>\n",
       "</div>"
      ],
      "text/plain": [
       "                               Age  Overall_rating  Potential  \\\n",
       "Age                       1.000000        0.065415  -0.511813   \n",
       "Overall_rating            0.065415        1.000000   0.732086   \n",
       "Potential                -0.511813        0.732086   1.000000   \n",
       "International Reputation  0.317207        0.661631   0.326561   \n",
       "Weak Foot                -0.060779        0.104497   0.099751   \n",
       "Skill Moves              -0.203928        0.083036   0.127850   \n",
       "Jersey Number            -0.036914       -0.096322  -0.039918   \n",
       "Height                    0.069289        0.041389   0.029916   \n",
       "Weight                    0.149615        0.054398  -0.017479   \n",
       "\n",
       "                          International Reputation  Weak Foot  Skill Moves  \\\n",
       "Age                                       0.317207  -0.060779    -0.203928   \n",
       "Overall_rating                            0.661631   0.104497     0.083036   \n",
       "Potential                                 0.326561   0.099751     0.127850   \n",
       "International Reputation                  1.000000   0.105721     0.088159   \n",
       "Weak Foot                                 0.105721   1.000000     0.342575   \n",
       "Skill Moves                               0.088159   0.342575     1.000000   \n",
       "Jersey Number                            -0.033793   0.040300     0.064169   \n",
       "Height                                    0.044504  -0.188258    -0.474081   \n",
       "Weight                                    0.070266  -0.199720    -0.529191   \n",
       "\n",
       "                          Jersey Number    Height    Weight  \n",
       "Age                           -0.036914  0.069289  0.149615  \n",
       "Overall_rating                -0.096322  0.041389  0.054398  \n",
       "Potential                     -0.039918  0.029916 -0.017479  \n",
       "International Reputation      -0.033793  0.044504  0.070266  \n",
       "Weak Foot                      0.040300 -0.188258 -0.199720  \n",
       "Skill Moves                    0.064169 -0.474081 -0.529191  \n",
       "Jersey Number                  1.000000  0.003525 -0.016596  \n",
       "Height                         0.003525  1.000000  0.545304  \n",
       "Weight                        -0.016596  0.545304  1.000000  "
      ]
     },
     "execution_count": 30,
     "metadata": {},
     "output_type": "execute_result"
    }
   ],
   "source": [
    "df.corr()"
   ]
  },
  {
   "cell_type": "code",
   "execution_count": 31,
   "id": "732e118c",
   "metadata": {},
   "outputs": [
    {
     "data": {
      "text/plain": [
       "(0.7320858358909884, 0.0)"
      ]
     },
     "execution_count": 31,
     "metadata": {},
     "output_type": "execute_result"
    }
   ],
   "source": [
    "stats.pearsonr(df['Overall_rating'],df['Potential'])"
   ]
  },
  {
   "cell_type": "code",
   "execution_count": 32,
   "id": "c3ee6c31",
   "metadata": {},
   "outputs": [],
   "source": [
    "#Since P_value is less than significance level we reject the null hypothesis and conclude that overall rating and potential\n",
    "#are dependent"
   ]
  },
  {
   "cell_type": "markdown",
   "id": "03c28919",
   "metadata": {},
   "source": [
    "### e)Does skill move have any effect in overall rating? Perform the graphical analysis and the statistical analysis.\n"
   ]
  },
  {
   "cell_type": "code",
   "execution_count": 33,
   "id": "ccf9cb95",
   "metadata": {},
   "outputs": [],
   "source": [
    "# H0 : The variable overall rating and skill are independent\n",
    "# H1 : The variable overall rating and skill are Dependent."
   ]
  },
  {
   "cell_type": "code",
   "execution_count": 34,
   "id": "dd937a77",
   "metadata": {},
   "outputs": [
    {
     "name": "stdout",
     "output_type": "stream",
     "text": [
      "Z_stat -976.4188932734295\n",
      "P-value 0.0\n"
     ]
    }
   ],
   "source": [
    "x1_bar = df['Skill Moves'].mean()\n",
    "x2_bar = df['Overall_rating'].mean()\n",
    "s1 = df['Skill Moves'].std()\n",
    "s2 = df['Overall_rating'].std()\n",
    "n1 = len(df['Skill Moves'])\n",
    "n2 = len(df['Overall_rating'])\n",
    "z_stat = (x1_bar-x2_bar)/np.sqrt((s1**2/n1)+(s2**2/n2))\n",
    "print('Z_stat',z_stat)\n",
    "p_val=stats.norm.sf(abs(z_stat))*2\n",
    "print('P-value',p_val)\n",
    "#pvalue < 0.05 hence we can reject the null hypothesis"
   ]
  },
  {
   "cell_type": "code",
   "execution_count": 35,
   "id": "7aa79474",
   "metadata": {},
   "outputs": [
    {
     "data": {
      "text/plain": [
       "(0.08303643058332777, 0.00021570230856717955)"
      ]
     },
     "execution_count": 35,
     "metadata": {},
     "output_type": "execute_result"
    }
   ],
   "source": [
    "stats.pearsonr(df['Overall_rating'],df['Skill Moves'])"
   ]
  },
  {
   "cell_type": "code",
   "execution_count": 36,
   "id": "c51e835b",
   "metadata": {},
   "outputs": [
    {
     "name": "stderr",
     "output_type": "stream",
     "text": [
      "C:\\Users\\karan\\anaconda3\\lib\\site-packages\\seaborn\\distributions.py:2619: FutureWarning: `distplot` is a deprecated function and will be removed in a future version. Please adapt your code to use either `displot` (a figure-level function with similar flexibility) or `histplot` (an axes-level function for histograms).\n",
      "  warnings.warn(msg, FutureWarning)\n",
      "C:\\Users\\karan\\anaconda3\\lib\\site-packages\\seaborn\\distributions.py:2619: FutureWarning: `distplot` is a deprecated function and will be removed in a future version. Please adapt your code to use either `displot` (a figure-level function with similar flexibility) or `histplot` (an axes-level function for histograms).\n",
      "  warnings.warn(msg, FutureWarning)\n"
     ]
    },
    {
     "data": {
      "text/plain": [
       "<AxesSubplot:xlabel='Overall_rating', ylabel='Density'>"
      ]
     },
     "execution_count": 36,
     "metadata": {},
     "output_type": "execute_result"
    },
    {
     "data": {
      "image/png": "[encoded data removed]",
      "text/plain": [
       "<Figure size 432x288 with 1 Axes>"
      ]
     },
     "metadata": {
      "needs_background": "light"
     },
     "output_type": "display_data"
    }
   ],
   "source": [
    "sns.distplot(df['Skill Moves'])\n",
    "sns.distplot(df['Overall_rating'])"
   ]
  },
  {
   "cell_type": "code",
   "execution_count": 37,
   "id": "76b11ab2",
   "metadata": {},
   "outputs": [
    {
     "data": {
      "text/html": [
       "<div>\n",
       "<style scoped>\n",
       "    .dataframe tbody tr th:only-of-type {\n",
       "        vertical-align: middle;\n",
       "    }\n",
       "\n",
       "    .dataframe tbody tr th {\n",
       "        vertical-align: top;\n",
       "    }\n",
       "\n",
       "    .dataframe thead th {\n",
       "        text-align: right;\n",
       "    }\n",
       "</style>\n",
       "<table border=\"1\" class=\"dataframe\">\n",
       "  <thead>\n",
       "    <tr style=\"text-align: right;\">\n",
       "      <th></th>\n",
       "      <th>date</th>\n",
       "      <th>duration</th>\n",
       "      <th>item</th>\n",
       "      <th>month</th>\n",
       "      <th>network</th>\n",
       "      <th>network_type</th>\n",
       "    </tr>\n",
       "  </thead>\n",
       "  <tbody>\n",
       "    <tr>\n",
       "      <th>0</th>\n",
       "      <td>15-10-14 6:58</td>\n",
       "      <td>221.321120</td>\n",
       "      <td>data</td>\n",
       "      <td>2014-11</td>\n",
       "      <td>data</td>\n",
       "      <td>data</td>\n",
       "    </tr>\n",
       "    <tr>\n",
       "      <th>1</th>\n",
       "      <td>15-10-14 6:58</td>\n",
       "      <td>81.610599</td>\n",
       "      <td>call</td>\n",
       "      <td>2014-11</td>\n",
       "      <td>Vodafone</td>\n",
       "      <td>mobile</td>\n",
       "    </tr>\n",
       "    <tr>\n",
       "      <th>2</th>\n",
       "      <td>15-10-14 14:46</td>\n",
       "      <td>143.109111</td>\n",
       "      <td>call</td>\n",
       "      <td>2014-11</td>\n",
       "      <td>Meteor</td>\n",
       "      <td>mobile</td>\n",
       "    </tr>\n",
       "    <tr>\n",
       "      <th>3</th>\n",
       "      <td>15-10-14 14:48</td>\n",
       "      <td>111.888670</td>\n",
       "      <td>call</td>\n",
       "      <td>2014-11</td>\n",
       "      <td>Tesco</td>\n",
       "      <td>mobile</td>\n",
       "    </tr>\n",
       "    <tr>\n",
       "      <th>4</th>\n",
       "      <td>15-10-14 17:27</td>\n",
       "      <td>246.695171</td>\n",
       "      <td>call</td>\n",
       "      <td>2014-11</td>\n",
       "      <td>Tesco</td>\n",
       "      <td>mobile</td>\n",
       "    </tr>\n",
       "  </tbody>\n",
       "</table>\n",
       "</div>"
      ],
      "text/plain": [
       "             date    duration  item    month   network network_type\n",
       "0   15-10-14 6:58  221.321120  data  2014-11      data         data\n",
       "1   15-10-14 6:58   81.610599  call  2014-11  Vodafone       mobile\n",
       "2  15-10-14 14:46  143.109111  call  2014-11    Meteor       mobile\n",
       "3  15-10-14 14:48  111.888670  call  2014-11     Tesco       mobile\n",
       "4  15-10-14 17:27  246.695171  call  2014-11     Tesco       mobile"
      ]
     },
     "execution_count": 37,
     "metadata": {},
     "output_type": "execute_result"
    }
   ],
   "source": [
    "df1=pd.read_csv('phone.csv')\n",
    "df1.head()"
   ]
  },
  {
   "cell_type": "code",
   "execution_count": 38,
   "id": "6abf22cf",
   "metadata": {},
   "outputs": [
    {
     "data": {
      "text/plain": [
       "(820, 6)"
      ]
     },
     "execution_count": 38,
     "metadata": {},
     "output_type": "execute_result"
    }
   ],
   "source": [
    "df1.shape"
   ]
  },
  {
   "cell_type": "code",
   "execution_count": 39,
   "id": "756476eb",
   "metadata": {},
   "outputs": [
    {
     "name": "stdout",
     "output_type": "stream",
     "text": [
      "<class 'pandas.core.frame.DataFrame'>\n",
      "RangeIndex: 820 entries, 0 to 819\n",
      "Data columns (total 6 columns):\n",
      " #   Column        Non-Null Count  Dtype  \n",
      "---  ------        --------------  -----  \n",
      " 0   date          820 non-null    object \n",
      " 1   duration      820 non-null    float64\n",
      " 2   item          820 non-null    object \n",
      " 3   month         820 non-null    object \n",
      " 4   network       820 non-null    object \n",
      " 5   network_type  820 non-null    object \n",
      "dtypes: float64(1), object(5)\n",
      "memory usage: 38.6+ KB\n"
     ]
    }
   ],
   "source": [
    "df1.info()"
   ]
  },
  {
   "cell_type": "code",
   "execution_count": 40,
   "id": "9ebf9f7a",
   "metadata": {},
   "outputs": [
    {
     "data": {
      "text/plain": [
       "date            0\n",
       "duration        0\n",
       "item            0\n",
       "month           0\n",
       "network         0\n",
       "network_type    0\n",
       "dtype: int64"
      ]
     },
     "execution_count": 40,
     "metadata": {},
     "output_type": "execute_result"
    }
   ],
   "source": [
    "df1.isnull().sum()"
   ]
  },
  {
   "cell_type": "markdown",
   "id": "73c6d444",
   "metadata": {},
   "source": [
    "### a) With 95% & 99% Confidence Interval, find the range estimate of average duration calls made by the entire network. Which of the Intervals are wider? Interpret the results."
   ]
  },
  {
   "cell_type": "code",
   "execution_count": 41,
   "id": "f1c9ca1b",
   "metadata": {},
   "outputs": [],
   "source": [
    "x_bar=df1['duration'].mean()\n",
    "s=df1['duration'].std()\n",
    "n=len(df1['duration'])\n",
    "cl1=0.95\n",
    "cl2=0.99"
   ]
  },
  {
   "cell_type": "code",
   "execution_count": 42,
   "id": "96ee5a2b",
   "metadata": {},
   "outputs": [
    {
     "data": {
      "text/plain": [
       "(141.17321160796186, 147.43665951170905)"
      ]
     },
     "execution_count": 42,
     "metadata": {},
     "output_type": "execute_result"
    }
   ],
   "source": [
    "stats.t.interval(loc=x_bar,scale=s/n**0.5,alpha=cl1,df=n-1)"
   ]
  },
  {
   "cell_type": "code",
   "execution_count": 43,
   "id": "cad8de70",
   "metadata": {},
   "outputs": [
    {
     "data": {
      "text/plain": [
       "(140.185636073024, 148.4242350466469)"
      ]
     },
     "execution_count": 43,
     "metadata": {},
     "output_type": "execute_result"
    }
   ],
   "source": [
    "stats.t.interval(loc=x_bar,scale=s/n**0.5,alpha=cl2,df=n-1)"
   ]
  },
  {
   "cell_type": "markdown",
   "id": "f7b7a5d9",
   "metadata": {},
   "source": [
    "### b)Perform statistical analysis to check whether the networks are equally distributed in the dataset."
   ]
  },
  {
   "cell_type": "code",
   "execution_count": 44,
   "id": "ff57cd41",
   "metadata": {},
   "outputs": [
    {
     "data": {
      "text/plain": [
       "Vodafone     215\n",
       "Three        215\n",
       "data         150\n",
       "Meteor        87\n",
       "Tesco         84\n",
       "landline      42\n",
       "voicemail     27\n",
       "Name: network, dtype: int64"
      ]
     },
     "execution_count": 44,
     "metadata": {},
     "output_type": "execute_result"
    }
   ],
   "source": [
    "df1['network'].value_counts()"
   ]
  },
  {
   "cell_type": "code",
   "execution_count": 45,
   "id": "af76ea90",
   "metadata": {},
   "outputs": [
    {
     "name": "stderr",
     "output_type": "stream",
     "text": [
      "C:\\Users\\karan\\anaconda3\\lib\\site-packages\\seaborn\\distributions.py:2619: FutureWarning: `distplot` is a deprecated function and will be removed in a future version. Please adapt your code to use either `displot` (a figure-level function with similar flexibility) or `histplot` (an axes-level function for histograms).\n",
      "  warnings.warn(msg, FutureWarning)\n",
      "C:\\Users\\karan\\anaconda3\\lib\\site-packages\\seaborn\\distributions.py:2619: FutureWarning: `distplot` is a deprecated function and will be removed in a future version. Please adapt your code to use either `displot` (a figure-level function with similar flexibility) or `histplot` (an axes-level function for histograms).\n",
      "  warnings.warn(msg, FutureWarning)\n",
      "C:\\Users\\karan\\anaconda3\\lib\\site-packages\\seaborn\\distributions.py:2619: FutureWarning: `distplot` is a deprecated function and will be removed in a future version. Please adapt your code to use either `displot` (a figure-level function with similar flexibility) or `histplot` (an axes-level function for histograms).\n",
      "  warnings.warn(msg, FutureWarning)\n",
      "C:\\Users\\karan\\anaconda3\\lib\\site-packages\\seaborn\\distributions.py:2619: FutureWarning: `distplot` is a deprecated function and will be removed in a future version. Please adapt your code to use either `displot` (a figure-level function with similar flexibility) or `histplot` (an axes-level function for histograms).\n",
      "  warnings.warn(msg, FutureWarning)\n",
      "C:\\Users\\karan\\anaconda3\\lib\\site-packages\\seaborn\\distributions.py:2619: FutureWarning: `distplot` is a deprecated function and will be removed in a future version. Please adapt your code to use either `displot` (a figure-level function with similar flexibility) or `histplot` (an axes-level function for histograms).\n",
      "  warnings.warn(msg, FutureWarning)\n",
      "C:\\Users\\karan\\anaconda3\\lib\\site-packages\\seaborn\\distributions.py:2619: FutureWarning: `distplot` is a deprecated function and will be removed in a future version. Please adapt your code to use either `displot` (a figure-level function with similar flexibility) or `histplot` (an axes-level function for histograms).\n",
      "  warnings.warn(msg, FutureWarning)\n",
      "C:\\Users\\karan\\anaconda3\\lib\\site-packages\\seaborn\\distributions.py:2619: FutureWarning: `distplot` is a deprecated function and will be removed in a future version. Please adapt your code to use either `displot` (a figure-level function with similar flexibility) or `histplot` (an axes-level function for histograms).\n",
      "  warnings.warn(msg, FutureWarning)\n"
     ]
    },
    {
     "data": {
      "text/plain": [
       "<AxesSubplot:xlabel='network', ylabel='Density'>"
      ]
     },
     "execution_count": 45,
     "metadata": {},
     "output_type": "execute_result"
    },
    {
     "data": {
      "image/png": "[encoded data removed]",
      "text/plain": [
       "<Figure size 432x288 with 1 Axes>"
      ]
     },
     "metadata": {
      "needs_background": "light"
     },
     "output_type": "display_data"
    }
   ],
   "source": [
    "sns.distplot(df1['network']=='Vodafone')\n",
    "sns.distplot(df1['network']=='Three')\n",
    "sns.distplot(df1['network']=='data')\n",
    "sns.distplot(df1['network']=='Meteor')\n",
    "sns.distplot(df1['network']=='Tesco')\n",
    "sns.distplot(df1['network']=='landline')\n",
    "sns.distplot(df1['network']=='voicemail')"
   ]
  },
  {
   "cell_type": "code",
   "execution_count": 46,
   "id": "68125b63",
   "metadata": {},
   "outputs": [
    {
     "ename": "ValueError",
     "evalue": "For each axis slice, the sum of the observed frequencies must agree with the sum of the expected frequencies to a relative tolerance of 1e-08, but the percent differences are:\n99.03170731707317",
     "output_type": "error",
     "traceback": [
      "\u001b[1;31m---------------------------------------------------------------------------\u001b[0m",
      "\u001b[1;31mValueError\u001b[0m                                Traceback (most recent call last)",
      "Input \u001b[1;32mIn [46]\u001b[0m, in \u001b[0;36m<cell line: 13>\u001b[1;34m()\u001b[0m\n\u001b[0;32m     10\u001b[0m \u001b[38;5;66;03m# round-off the values to integers\u001b[39;00m\n\u001b[0;32m     11\u001b[0m expected_value \u001b[38;5;241m=\u001b[39m \u001b[38;5;28mround\u001b[39m(pd\u001b[38;5;241m.\u001b[39mSeries(expected_value))\n\u001b[1;32m---> 13\u001b[0m stat, p_value \u001b[38;5;241m=\u001b[39m \u001b[43mstats\u001b[49m\u001b[38;5;241;43m.\u001b[39;49m\u001b[43mchisquare\u001b[49m\u001b[43m(\u001b[49m\u001b[43mf_obs\u001b[49m\u001b[43m \u001b[49m\u001b[38;5;241;43m=\u001b[39;49m\u001b[43m \u001b[49m\u001b[43mobserved_value\u001b[49m\u001b[43m,\u001b[49m\u001b[43m \u001b[49m\u001b[43mf_exp\u001b[49m\u001b[43m \u001b[49m\u001b[38;5;241;43m=\u001b[39;49m\u001b[43m \u001b[49m\u001b[43mexpected_value\u001b[49m\u001b[43m)\u001b[49m\n\u001b[0;32m     15\u001b[0m \u001b[38;5;28mprint\u001b[39m(\u001b[38;5;124m'\u001b[39m\u001b[38;5;124mp-value:\u001b[39m\u001b[38;5;124m'\u001b[39m, p_value)\n",
      "File \u001b[1;32m~\\anaconda3\\lib\\site-packages\\scipy\\stats\\stats.py:6852\u001b[0m, in \u001b[0;36mchisquare\u001b[1;34m(f_obs, f_exp, ddof, axis)\u001b[0m\n\u001b[0;32m   6728\u001b[0m \u001b[38;5;28;01mdef\u001b[39;00m \u001b[38;5;21mchisquare\u001b[39m(f_obs, f_exp\u001b[38;5;241m=\u001b[39m\u001b[38;5;28;01mNone\u001b[39;00m, ddof\u001b[38;5;241m=\u001b[39m\u001b[38;5;241m0\u001b[39m, axis\u001b[38;5;241m=\u001b[39m\u001b[38;5;241m0\u001b[39m):\n\u001b[0;32m   6729\u001b[0m     \u001b[38;5;124;03m\"\"\"Calculate a one-way chi-square test.\u001b[39;00m\n\u001b[0;32m   6730\u001b[0m \n\u001b[0;32m   6731\u001b[0m \u001b[38;5;124;03m    The chi-square test tests the null hypothesis that the categorical data\u001b[39;00m\n\u001b[1;32m   (...)\u001b[0m\n\u001b[0;32m   6850\u001b[0m \n\u001b[0;32m   6851\u001b[0m \u001b[38;5;124;03m    \"\"\"\u001b[39;00m\n\u001b[1;32m-> 6852\u001b[0m     \u001b[38;5;28;01mreturn\u001b[39;00m \u001b[43mpower_divergence\u001b[49m\u001b[43m(\u001b[49m\u001b[43mf_obs\u001b[49m\u001b[43m,\u001b[49m\u001b[43m \u001b[49m\u001b[43mf_exp\u001b[49m\u001b[38;5;241;43m=\u001b[39;49m\u001b[43mf_exp\u001b[49m\u001b[43m,\u001b[49m\u001b[43m \u001b[49m\u001b[43mddof\u001b[49m\u001b[38;5;241;43m=\u001b[39;49m\u001b[43mddof\u001b[49m\u001b[43m,\u001b[49m\u001b[43m \u001b[49m\u001b[43maxis\u001b[49m\u001b[38;5;241;43m=\u001b[39;49m\u001b[43maxis\u001b[49m\u001b[43m,\u001b[49m\n\u001b[0;32m   6853\u001b[0m \u001b[43m                            \u001b[49m\u001b[43mlambda_\u001b[49m\u001b[38;5;241;43m=\u001b[39;49m\u001b[38;5;124;43m\"\u001b[39;49m\u001b[38;5;124;43mpearson\u001b[39;49m\u001b[38;5;124;43m\"\u001b[39;49m\u001b[43m)\u001b[49m\n",
      "File \u001b[1;32m~\\anaconda3\\lib\\site-packages\\scipy\\stats\\stats.py:6694\u001b[0m, in \u001b[0;36mpower_divergence\u001b[1;34m(f_obs, f_exp, ddof, axis, lambda_)\u001b[0m\n\u001b[0;32m   6688\u001b[0m     \u001b[38;5;28;01mif\u001b[39;00m diff_gt_tol:\n\u001b[0;32m   6689\u001b[0m         msg \u001b[38;5;241m=\u001b[39m (\u001b[38;5;124mf\u001b[39m\u001b[38;5;124m\"\u001b[39m\u001b[38;5;124mFor each axis slice, the sum of the observed \u001b[39m\u001b[38;5;124m\"\u001b[39m\n\u001b[0;32m   6690\u001b[0m                \u001b[38;5;124mf\u001b[39m\u001b[38;5;124m\"\u001b[39m\u001b[38;5;124mfrequencies must agree with the sum of the \u001b[39m\u001b[38;5;124m\"\u001b[39m\n\u001b[0;32m   6691\u001b[0m                \u001b[38;5;124mf\u001b[39m\u001b[38;5;124m\"\u001b[39m\u001b[38;5;124mexpected frequencies to a relative tolerance \u001b[39m\u001b[38;5;124m\"\u001b[39m\n\u001b[0;32m   6692\u001b[0m                \u001b[38;5;124mf\u001b[39m\u001b[38;5;124m\"\u001b[39m\u001b[38;5;124mof \u001b[39m\u001b[38;5;132;01m{\u001b[39;00mrtol\u001b[38;5;132;01m}\u001b[39;00m\u001b[38;5;124m, but the percent differences are:\u001b[39m\u001b[38;5;130;01m\\n\u001b[39;00m\u001b[38;5;124m\"\u001b[39m\n\u001b[0;32m   6693\u001b[0m                \u001b[38;5;124mf\u001b[39m\u001b[38;5;124m\"\u001b[39m\u001b[38;5;132;01m{\u001b[39;00mrelative_diff\u001b[38;5;132;01m}\u001b[39;00m\u001b[38;5;124m\"\u001b[39m)\n\u001b[1;32m-> 6694\u001b[0m         \u001b[38;5;28;01mraise\u001b[39;00m \u001b[38;5;167;01mValueError\u001b[39;00m(msg)\n\u001b[0;32m   6696\u001b[0m \u001b[38;5;28;01melse\u001b[39;00m:\n\u001b[0;32m   6697\u001b[0m     \u001b[38;5;66;03m# Ignore 'invalid' errors so the edge case of a data set with length 0\u001b[39;00m\n\u001b[0;32m   6698\u001b[0m     \u001b[38;5;66;03m# is handled without spurious warnings.\u001b[39;00m\n\u001b[0;32m   6699\u001b[0m     \u001b[38;5;28;01mwith\u001b[39;00m np\u001b[38;5;241m.\u001b[39merrstate(invalid\u001b[38;5;241m=\u001b[39m\u001b[38;5;124m'\u001b[39m\u001b[38;5;124mignore\u001b[39m\u001b[38;5;124m'\u001b[39m):\n",
      "\u001b[1;31mValueError\u001b[0m: For each axis slice, the sum of the observed frequencies must agree with the sum of the expected frequencies to a relative tolerance of 1e-08, but the percent differences are:\n99.03170731707317"
     ]
    }
   ],
   "source": [
    "# given observed values\n",
    "observed_value = [215,215,150,87,84,42,27]\n",
    "\n",
    "# expected percentage \n",
    "exp_count = [14.29,14.29,14.29,14.29,14.29,14.29,14.29]\n",
    "\n",
    "# calculate the expected values for each category\n",
    "expected_value = np.array(exp_count) * len(df1)\n",
    "\n",
    "# round-off the values to integers\n",
    "expected_value = round(pd.Series(expected_value))\n",
    "\n",
    "stat, p_value = stats.chisquare(f_obs = observed_value, f_exp = expected_value)\n",
    "\n",
    "print('p-value:', p_value)"
   ]
  },
  {
   "cell_type": "markdown",
   "id": "9e777e0e",
   "metadata": {},
   "source": [
    "### c) Plot the distribution of duration with respect to each network in the same graph and interpret the results from the graph."
   ]
  },
  {
   "cell_type": "code",
   "execution_count": null,
   "id": "aa106ec3",
   "metadata": {},
   "outputs": [],
   "source": [
    "n1 = df1[df1['network'] == 'data']['duration']\n",
    "n2 = df1[df1['network'] == 'Vodafone']['duration']\n",
    "n3 = df1[df1['network'] == 'Meteor']['duration']\n",
    "n4 = df1[df1['network'] == 'Tesco']['duration']\n",
    "n5 = df1[df1['network'] == 'Three']['duration']\n",
    "n6 = df1[df1['network'] == 'voicemail']['duration']\n",
    "n7 = df1[df1['network'] == 'landline']['duration']\n",
    "sns.distplot(n1)\n",
    "sns.distplot(n2)\n",
    "sns.distplot(n3)\n",
    "sns.distplot(n4)\n",
    "sns.distplot(n5)\n",
    "sns.distplot(n6)\n",
    "sns.distplot(n7)\n"
   ]
  },
  {
   "cell_type": "markdown",
   "id": "e462cfc7",
   "metadata": {},
   "source": [
    "### d)\tPerform statistical tests to identify the relation between item and duration. Detailed explanation of relation between the classes is required."
   ]
  },
  {
   "cell_type": "code",
   "execution_count": 47,
   "id": "38c176fa",
   "metadata": {},
   "outputs": [
    {
     "data": {
      "text/plain": [
       "array(['data', 'call', 'sms'], dtype=object)"
      ]
     },
     "execution_count": 47,
     "metadata": {},
     "output_type": "execute_result"
    }
   ],
   "source": [
    "df1['item'].unique()"
   ]
  },
  {
   "cell_type": "code",
   "execution_count": 48,
   "id": "49c03811",
   "metadata": {},
   "outputs": [
    {
     "name": "stderr",
     "output_type": "stream",
     "text": [
      "C:\\Users\\karan\\anaconda3\\lib\\site-packages\\seaborn\\distributions.py:2619: FutureWarning: `distplot` is a deprecated function and will be removed in a future version. Please adapt your code to use either `displot` (a figure-level function with similar flexibility) or `histplot` (an axes-level function for histograms).\n",
      "  warnings.warn(msg, FutureWarning)\n",
      "C:\\Users\\karan\\anaconda3\\lib\\site-packages\\seaborn\\distributions.py:2619: FutureWarning: `distplot` is a deprecated function and will be removed in a future version. Please adapt your code to use either `displot` (a figure-level function with similar flexibility) or `histplot` (an axes-level function for histograms).\n",
      "  warnings.warn(msg, FutureWarning)\n",
      "C:\\Users\\karan\\anaconda3\\lib\\site-packages\\seaborn\\distributions.py:2619: FutureWarning: `distplot` is a deprecated function and will be removed in a future version. Please adapt your code to use either `displot` (a figure-level function with similar flexibility) or `histplot` (an axes-level function for histograms).\n",
      "  warnings.warn(msg, FutureWarning)\n"
     ]
    },
    {
     "data": {
      "text/plain": [
       "<AxesSubplot:xlabel='duration', ylabel='Density'>"
      ]
     },
     "execution_count": 48,
     "metadata": {},
     "output_type": "execute_result"
    },
    {
     "data": {
      "image/png": "[encoded data removed]",
      "text/plain": [
       "<Figure size 432x288 with 1 Axes>"
      ]
     },
     "metadata": {
      "needs_background": "light"
     },
     "output_type": "display_data"
    }
   ],
   "source": [
    "item_data = df1[df1['item'] == 'data']['duration']\n",
    "item_call = df1[df1['item'] == 'call']['duration']\n",
    "item_sms = df1[df1['item'] == 'sms']['duration']\n",
    "sns.distplot(item_data)\n",
    "sns.distplot(item_call)\n",
    "sns.distplot(item_sms)"
   ]
  },
  {
   "cell_type": "code",
   "execution_count": 49,
   "id": "b3d72a88",
   "metadata": {},
   "outputs": [
    {
     "data": {
      "text/plain": [
       "F_onewayResult(statistic=1.9313964906864995, pvalue=0.1456068656611744)"
      ]
     },
     "execution_count": 49,
     "metadata": {},
     "output_type": "execute_result"
    }
   ],
   "source": [
    "#Ho: Independent\n",
    "#H1: Not Independent\n",
    "stats.f_oneway(item_data,item_call,item_sms)"
   ]
  },
  {
   "cell_type": "code",
   "execution_count": 50,
   "id": "0b0c8121",
   "metadata": {},
   "outputs": [],
   "source": [
    "# Since p value is greater than 0.05 we fail to reject the null hypothesis, concluding that both are not in relation"
   ]
  },
  {
   "cell_type": "markdown",
   "id": "dc3ca1a3",
   "metadata": {},
   "source": [
    "### e)Perform statistical tests to identify the relation between network and network_type. "
   ]
  },
  {
   "cell_type": "code",
   "execution_count": 51,
   "id": "ab8236e4",
   "metadata": {},
   "outputs": [],
   "source": [
    "#Ho: Independent\n",
    "#H1: Not Independent"
   ]
  },
  {
   "cell_type": "code",
   "execution_count": 52,
   "id": "a0ae8dab",
   "metadata": {},
   "outputs": [
    {
     "data": {
      "text/html": [
       "<div>\n",
       "<style scoped>\n",
       "    .dataframe tbody tr th:only-of-type {\n",
       "        vertical-align: middle;\n",
       "    }\n",
       "\n",
       "    .dataframe tbody tr th {\n",
       "        vertical-align: top;\n",
       "    }\n",
       "\n",
       "    .dataframe thead th {\n",
       "        text-align: right;\n",
       "    }\n",
       "</style>\n",
       "<table border=\"1\" class=\"dataframe\">\n",
       "  <thead>\n",
       "    <tr style=\"text-align: right;\">\n",
       "      <th>network_type</th>\n",
       "      <th>data</th>\n",
       "      <th>landline</th>\n",
       "      <th>mobile</th>\n",
       "      <th>voicemail</th>\n",
       "    </tr>\n",
       "    <tr>\n",
       "      <th>network</th>\n",
       "      <th></th>\n",
       "      <th></th>\n",
       "      <th></th>\n",
       "      <th></th>\n",
       "    </tr>\n",
       "  </thead>\n",
       "  <tbody>\n",
       "    <tr>\n",
       "      <th>Meteor</th>\n",
       "      <td>0</td>\n",
       "      <td>0</td>\n",
       "      <td>87</td>\n",
       "      <td>0</td>\n",
       "    </tr>\n",
       "    <tr>\n",
       "      <th>Tesco</th>\n",
       "      <td>0</td>\n",
       "      <td>0</td>\n",
       "      <td>84</td>\n",
       "      <td>0</td>\n",
       "    </tr>\n",
       "    <tr>\n",
       "      <th>Three</th>\n",
       "      <td>0</td>\n",
       "      <td>0</td>\n",
       "      <td>215</td>\n",
       "      <td>0</td>\n",
       "    </tr>\n",
       "    <tr>\n",
       "      <th>Vodafone</th>\n",
       "      <td>0</td>\n",
       "      <td>0</td>\n",
       "      <td>215</td>\n",
       "      <td>0</td>\n",
       "    </tr>\n",
       "    <tr>\n",
       "      <th>data</th>\n",
       "      <td>150</td>\n",
       "      <td>0</td>\n",
       "      <td>0</td>\n",
       "      <td>0</td>\n",
       "    </tr>\n",
       "    <tr>\n",
       "      <th>landline</th>\n",
       "      <td>0</td>\n",
       "      <td>42</td>\n",
       "      <td>0</td>\n",
       "      <td>0</td>\n",
       "    </tr>\n",
       "    <tr>\n",
       "      <th>voicemail</th>\n",
       "      <td>0</td>\n",
       "      <td>0</td>\n",
       "      <td>0</td>\n",
       "      <td>27</td>\n",
       "    </tr>\n",
       "  </tbody>\n",
       "</table>\n",
       "</div>"
      ],
      "text/plain": [
       "network_type  data  landline  mobile  voicemail\n",
       "network                                        \n",
       "Meteor           0         0      87          0\n",
       "Tesco            0         0      84          0\n",
       "Three            0         0     215          0\n",
       "Vodafone         0         0     215          0\n",
       "data           150         0       0          0\n",
       "landline         0        42       0          0\n",
       "voicemail        0         0       0         27"
      ]
     },
     "execution_count": 52,
     "metadata": {},
     "output_type": "execute_result"
    }
   ],
   "source": [
    "pd.crosstab(df1['network'],df1['network_type'])"
   ]
  },
  {
   "cell_type": "code",
   "execution_count": 53,
   "id": "6843dad8",
   "metadata": {},
   "outputs": [],
   "source": [
    "test_stat, pval, dof, expected_value=stats.chi2_contingency(pd.crosstab(df1['network'],df1['network_type']))"
   ]
  },
  {
   "cell_type": "code",
   "execution_count": 54,
   "id": "46f63292",
   "metadata": {},
   "outputs": [
    {
     "name": "stdout",
     "output_type": "stream",
     "text": [
      "Test statistic: 2460.0\n",
      "p-value: 0.0\n",
      "Degrees of freedom: 18\n",
      "Expected values: [[ 15.91463415   4.45609756  63.76463415   2.86463415]\n",
      " [ 15.36585366   4.30243902  61.56585366   2.76585366]\n",
      " [ 39.32926829  11.01219512 157.57926829   7.07926829]\n",
      " [ 39.32926829  11.01219512 157.57926829   7.07926829]\n",
      " [ 27.43902439   7.68292683 109.93902439   4.93902439]\n",
      " [  7.68292683   2.15121951  30.78292683   1.38292683]\n",
      " [  4.93902439   1.38292683  19.78902439   0.88902439]]\n"
     ]
    }
   ],
   "source": [
    "print(\"Test statistic:\", test_stat)\n",
    "print(\"p-value:\", pval)\n",
    "print(\"Degrees of freedom:\", dof)\n",
    "print(\"Expected values:\", expected_value)"
   ]
  },
  {
   "cell_type": "code",
   "execution_count": 55,
   "id": "545abae9",
   "metadata": {},
   "outputs": [],
   "source": [
    "# Since p Value is less than significance level we can reject the null hypothesis,concluding that network and network_type\n",
    "#has some relation"
   ]
  },
  {
   "cell_type": "code",
   "execution_count": null,
   "id": "13a72235",
   "metadata": {},
   "outputs": [],
   "source": []
  }
 ],
 "metadata": {
  "kernelspec": {
   "display_name": "Python 3 (ipykernel)",
   "language": "python",
   "name": "python3"
  },
  "language_info": {
   "codemirror_mode": {
    "name": "ipython",
    "version": 3
   },
   "file_extension": ".py",
   "mimetype": "text/x-python",
   "name": "python",
   "nbconvert_exporter": "python",
   "pygments_lexer": "ipython3",
   "version": "3.9.12"
  }
 },
 "nbformat": 4,
 "nbformat_minor": 5
}
